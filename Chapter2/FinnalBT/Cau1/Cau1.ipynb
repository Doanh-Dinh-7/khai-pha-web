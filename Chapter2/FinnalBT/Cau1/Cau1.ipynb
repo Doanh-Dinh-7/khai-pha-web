{
 "cells": [
  {
   "cell_type": "code",
   "execution_count": 16,
   "metadata": {},
   "outputs": [],
   "source": [
    "import requests\n",
    "import re\n",
    "import os"
   ]
  },
  {
   "cell_type": "code",
   "execution_count": 19,
   "metadata": {},
   "outputs": [],
   "source": [
    "head_url = 'https://baodaklak.vn/'\n",
    "with open('Cau1.txt', 'w', encoding='utf-8') as file:\n",
    "    for page in range(1,168):\n",
    "        url = f\"https://baodaklak.vn/khoa-hoc-cong-nghe/?paged={page}\"\n",
    "        file.write(url+\"\\n\")"
   ]
  }
 ],
 "metadata": {
  "kernelspec": {
   "display_name": "venv",
   "language": "python",
   "name": "python3"
  },
  "language_info": {
   "codemirror_mode": {
    "name": "ipython",
    "version": 3
   },
   "file_extension": ".py",
   "mimetype": "text/x-python",
   "name": "python",
   "nbconvert_exporter": "python",
   "pygments_lexer": "ipython3",
   "version": "3.12.4"
  }
 },
 "nbformat": 4,
 "nbformat_minor": 2
}
