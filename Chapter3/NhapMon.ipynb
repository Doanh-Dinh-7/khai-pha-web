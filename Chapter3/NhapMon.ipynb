{
 "cells": [
  {
   "cell_type": "markdown",
   "metadata": {},
   "source": [
    "### slide 15/37 3.1"
   ]
  },
  {
   "cell_type": "code",
   "execution_count": 1,
   "metadata": {},
   "outputs": [
    {
     "name": "stdout",
     "output_type": "stream",
     "text": [
      "this is introduction to nlp. it is likely to be useful, to people, machine learning is the new electrcity. there would be less hype around ai and more action going forward,python is the best tool! r is good langauage, i like this book, i want more books like this.\n"
     ]
    }
   ],
   "source": [
    "text=\"This is introduction to NLP. It is likely to be useful, to people, Machine learning is the new electrcity. There would be less hype around AI and more action going forward,python is the best tool! R is good langauage, I like this book, I want more books like this.\"\n",
    "\n",
    "text_pre=text.lower()\n",
    "print(text_pre)"
   ]
  },
  {
   "cell_type": "markdown",
   "metadata": {},
   "source": [
    "### slide 16/37 3.2a"
   ]
  },
  {
   "cell_type": "code",
   "execution_count": 2,
   "metadata": {},
   "outputs": [
    {
     "name": "stdout",
     "output_type": "stream",
     "text": [
      "This is introduction to NLP It is likely to be useful to people Machine learning is the new electrcity There would be less hype around AI and more action going forwardpython is the best tool R is good langauage I like this book I want more books like this\n"
     ]
    }
   ],
   "source": [
    "import re\n",
    "\n",
    "text=\"This is introduction to NLP. It is likely to be useful, to people, Machine learning is the new electrcity. There would be less hype around AI and more action going forward,python is the best tool! R is good langauage, I like this book, I want more books like this.\"\n",
    "\n",
    "#Cach 1: Su dung thu vien re\n",
    "text_pre=re.sub(r'[^\\w\\s]','',text)\n",
    "print(text_pre)"
   ]
  },
  {
   "cell_type": "markdown",
   "metadata": {},
   "source": [
    "### slide 17/37 3.2b"
   ]
  },
  {
   "cell_type": "code",
   "execution_count": 3,
   "metadata": {},
   "outputs": [
    {
     "name": "stdout",
     "output_type": "stream",
     "text": [
      "This is introduction to NLP It is likely to be useful to people Machine learning is the new electrcity There would be less hype around AI and more action going forwardpython is the best tool R is good langauage I like this book I want more books like this\n"
     ]
    }
   ],
   "source": [
    "import string\n",
    "\n",
    "text=\"This is introduction to NLP. It is likely to be useful, to people, Machine learning is the new electrcity. There would be less hype around AI and more action going forward,python is the best tool! R is good langauage, I like this book, I want more books like this.\"\n",
    "\n",
    "#Cach 2: Su dung thu vien string\n",
    "for c in string.punctuation:\n",
    "    text= text.replace(c,'')\n",
    "\n",
    "text_pre=text   \n",
    "print(text_pre)"
   ]
  },
  {
   "cell_type": "markdown",
   "metadata": {},
   "source": [
    "### slide 18/37 3.2c"
   ]
  },
  {
   "cell_type": "code",
   "execution_count": 5,
   "metadata": {},
   "outputs": [
    {
     "name": "stdout",
     "output_type": "stream",
     "text": [
      "Tại Đại hội Thể thao Đông Nam Á  , Đội tuyển nữ Việt Nam và Đội tuyển U-  Việt Nam đã bảo vệ thành công tấm huy chương vàng tại SEA Games   sau chiến thắng lần lượt trước Đội tuyển nữ Thái Lan ( - ) và Đội tuyển U-  Thái Lan ( - ).\n"
     ]
    }
   ],
   "source": [
    "import re\n",
    "text=\"Tại Đại hội Thể thao Đông Nam Á 2021, Đội tuyển nữ Việt Nam và Đội tuyển U-23 Việt Nam đã bảo vệ thành công tấm huy chương vàng tại SEA Games 30 sau chiến thắng lần lượt trước Đội tuyển nữ Thái Lan (1-0) và Đội tuyển U-23 Thái Lan (1-0).\"\n",
    "\n",
    "text_pre = re.sub(r\"\\d+\", \" \", text)\n",
    "print(text_pre)"
   ]
  },
  {
   "cell_type": "markdown",
   "metadata": {},
   "source": [
    "### slide 19/37 3.2d"
   ]
  },
  {
   "cell_type": "code",
   "execution_count": 6,
   "metadata": {},
   "outputs": [
    {
     "name": "stdout",
     "output_type": "stream",
     "text": [
      "Khoa học dữ liệu Là một ngành học đáp ứng xu hướng việc làm trong tương lai.\n"
     ]
    }
   ],
   "source": [
    "from bs4 import BeautifulSoup\n",
    "Text = \"<html><head><title>Khoa học dữ liệu</title><style>.call {background-color:black;} </style><script>getit</script></head><body>Là một ngành học<div>đáp ứng xu hướng việc làm trong tương lai.</div></body></html>\"\n",
    " \n",
    "# Function to remove tags\n",
    "def remove_tags(html): \n",
    "    soup = BeautifulSoup(html, \"html.parser\") # parse html content\n",
    "    for data in soup(['style', 'script']):\n",
    "        data.decompose() # Remove tags\n",
    "    return ' '.join(soup.stripped_strings)  # return data by retrieving the tag content\n",
    "  \n",
    "# Print the extracted data\n",
    "print(remove_tags(Text))"
   ]
  },
  {
   "cell_type": "markdown",
   "metadata": {},
   "source": [
    "### slide 21/37 3.3"
   ]
  },
  {
   "cell_type": "code",
   "execution_count": 7,
   "metadata": {},
   "outputs": [
    {
     "name": "stdout",
     "output_type": "stream",
     "text": [
      "What are you saying face_with_tears_of_joy. I am the boss Happy_face_or_smiley, and why are you so unamused_face\n"
     ]
    }
   ],
   "source": [
    "#Installing emot library\n",
    "#pip install emot\n",
    "from emot.emo_unicode import UNICODE_EMOJI # For emojis\n",
    "from emot.emo_unicode import EMOTICONS_EMO # For EMOTICONS\n",
    " \n",
    "# Function for converting emojis into word\n",
    "def converting_emojis(text):\n",
    "    for x in EMOTICONS_EMO:\n",
    "        text = text.replace(x, \"_\".join(EMOTICONS_EMO[x].replace(\",\",\"\").replace(\":\",\"\").split()))\n",
    "        \n",
    "    for x in UNICODE_EMOJI:\n",
    "        text = text.replace(x, \"_\".join(UNICODE_EMOJI[x].replace(\",\",\"\").replace(\":\",\"\").split()))\n",
    "            \n",
    "    return text\n",
    "\n",
    "text = \"What are you saying 😂. I am the boss :), and why are you so 😒\"\n",
    "text_pre=converting_emojis(text)\n",
    "print(text_pre)"
   ]
  },
  {
   "cell_type": "markdown",
   "metadata": {},
   "source": [
    "### slide 23/37 3.4a"
   ]
  },
  {
   "cell_type": "code",
   "execution_count": 12,
   "metadata": {},
   "outputs": [
    {
     "name": "stdout",
     "output_type": "stream",
     "text": [
      "This introduction NLP. It likely useful, people, Machine learning new electrcity. There would less hype around AI action going forward,python best tool! R good langauage, I like book, I want books like this.\n"
     ]
    },
    {
     "name": "stderr",
     "output_type": "stream",
     "text": [
      "[nltk_data] Downloading package stopwords to\n",
      "[nltk_data]     C:\\Users\\ADMIN\\AppData\\Roaming\\nltk_data...\n",
      "[nltk_data]   Package stopwords is already up-to-date!\n"
     ]
    }
   ],
   "source": [
    "#install and import libraries\n",
    "#Download nltk libraries\n",
    "#nltk.download()\n",
    "import nltk\n",
    "nltk.download('stopwords')\n",
    "from nltk.corpus import stopwords\n",
    "\n",
    "text=\"This is introduction to NLP. It is likely to be useful, to people, Machine learning is the new electrcity. There would be less hype around AI and more action going forward,python is the best tool! R is good langauage, I like this book, I want more books like this.\"\n",
    "\n",
    "#remove stop words\n",
    "stop = stopwords.words('english')\n",
    "text_pre = \" \".join(text for text in text.split() if text not in stop)\n",
    "\n",
    "print(text_pre)"
   ]
  },
  {
   "cell_type": "markdown",
   "metadata": {},
   "source": [
    "### slide 24/37 2.4b"
   ]
  },
  {
   "cell_type": "code",
   "execution_count": 7,
   "metadata": {},
   "outputs": [
    {
     "name": "stdout",
     "output_type": "stream",
     "text": [
      "Theo giới chuyên môn, lối U20 Việt Nam đa dạng, linh hoạt sơ đồ đội hình chiến thuật, khả năng tình công phòng ngự.\n"
     ]
    }
   ],
   "source": [
    "import os\n",
    "\n",
    "text=\"Theo giới chuyên môn, lối chơi của U20 Việt Nam khá đa dạng, linh hoạt hơn trong sơ đồ đội hình và chiến thuật, có khả năng chuyển tình thế nhanh trong tấn công và phòng ngự.\"\n",
    "\n",
    "# path=os.path.dirname(__file__)\n",
    "# Đường dẫn tới file stop words\n",
    "file_path = os.path.join(\"Data\", \"vietnamese-stopwords.txt\")\n",
    "\n",
    "# Mở file chứa các stop words\n",
    "with open(file_path, \"r\", encoding=\"utf-8\") as f:\n",
    "    # Đọc các stop words vào danh sách\n",
    "    List_StopWords = f.read().split(\"\\n\")\n",
    "\n",
    "#remove stop words\n",
    "text_pre=\" \".join(text for text in text.split() if text not in List_StopWords)\n",
    "print(text_pre)"
   ]
  },
  {
   "cell_type": "markdown",
   "metadata": {},
   "source": [
    "### slide 25/37 3.5a"
   ]
  },
  {
   "cell_type": "code",
   "execution_count": 9,
   "metadata": {},
   "outputs": [
    {
     "name": "stdout",
     "output_type": "stream",
     "text": [
      "['U20 Qatar vẫn còn cơ hội đi tiếp dù khá mong manh', ' Họ phải thắng Úc đậm và đợi chờ U20 Việt Nam đánh bại Iran', ' Khi đó, Qatar mới có thể nghĩ đến chuyện đoạt vé vào vòng trong', ' Đó là cơ sở để U20 Việt Nam kỳ vọng vào tấm vé đi tiếp ngay cả khi không thể có kết quả tốt trước Iran']\n"
     ]
    }
   ],
   "source": [
    "text=\"U20 Qatar vẫn còn cơ hội đi tiếp dù khá mong manh. Họ phải thắng Úc đậm và đợi chờ U20 Việt Nam đánh bại Iran. Khi đó, Qatar mới có thể nghĩ đến chuyện đoạt vé vào vòng trong. Đó là cơ sở để U20 Việt Nam kỳ vọng vào tấm vé đi tiếp ngay cả khi không thể có kết quả tốt trước Iran.\"\n",
    "\n",
    "text_pre=text.split(\".\")\n",
    "text_pre.remove(\"\")\n",
    "print(text_pre)"
   ]
  },
  {
   "cell_type": "markdown",
   "metadata": {},
   "source": [
    "### slide 36/37 3.5b"
   ]
  },
  {
   "cell_type": "code",
   "execution_count": 10,
   "metadata": {},
   "outputs": [
    {
     "name": "stdout",
     "output_type": "stream",
     "text": [
      "['U20 Qatar vẫn còn cơ hội đi tiếp dù khá mong manh.', 'Họ phải thắng Úc đậm và đợi chờ U20 Việt Nam đánh bại Iran.', 'Khi đó, Qatar mới có thể nghĩ đến chuyện đoạt vé vào vòng trong.', 'Đó là cơ sở để U20 Việt Nam kỳ vọng vào tấm vé đi tiếp ngay cả khi không thể có kết quả tốt trước Iran.']\n"
     ]
    }
   ],
   "source": [
    "import nltk\n",
    "text=\"U20 Qatar vẫn còn cơ hội đi tiếp dù khá mong manh. Họ phải thắng Úc đậm và đợi chờ U20 Việt Nam đánh bại Iran. Khi đó, Qatar mới có thể nghĩ đến chuyện đoạt vé vào vòng trong. Đó là cơ sở để U20 Việt Nam kỳ vọng vào tấm vé đi tiếp ngay cả khi không thể có kết quả tốt trước Iran.\"\n",
    "\n",
    "sentence_list = nltk.sent_tokenize(text)\n",
    "print(sentence_list)\n",
    "  "
   ]
  },
  {
   "cell_type": "markdown",
   "metadata": {},
   "source": [
    "### slide 28/37 3.6"
   ]
  },
  {
   "cell_type": "code",
   "execution_count": 13,
   "metadata": {},
   "outputs": [
    {
     "name": "stdout",
     "output_type": "stream",
     "text": [
      " I like natural language processing it's your choice.\n"
     ]
    }
   ],
   "source": [
    "import re\n",
    "lookup_dict = {'nlp':'natural language processing', 'ur':'your', \"wbu\" : \"what about you\"}\n",
    "\n",
    "def text_std(input_text):\n",
    "    words = input_text.split()\n",
    "    # Get Abbreviations Words\n",
    "    text_pre=\"\"\n",
    "    for word in words:\n",
    "        w=word\n",
    "        w = re.sub(r'[^\\w\\s]','',w) #Removing Punctuation\n",
    "        if w.lower() in lookup_dict:\n",
    "            word=lookup_dict[w]\n",
    "        text_pre=text_pre + \" \" + word        \n",
    "    return text_pre\n",
    "\n",
    "text_pre=text_std(\"I like nlp it's ur choice.\")\n",
    "print(text_pre)"
   ]
  },
  {
   "cell_type": "markdown",
   "metadata": {},
   "source": [
    "### slide 29/37"
   ]
  },
  {
   "cell_type": "markdown",
   "metadata": {},
   "source": [
    "#### 3.7a"
   ]
  },
  {
   "cell_type": "code",
   "execution_count": 14,
   "metadata": {},
   "outputs": [
    {
     "name": "stdout",
     "output_type": "stream",
     "text": [
      "GFG is a good company and always value their employees.\n"
     ]
    }
   ],
   "source": [
    "#Install textblob library\n",
    "#pip install textblob\n",
    "\n",
    "#import libraries and use 'correct' function\n",
    "from textblob import TextBlob\n",
    "text=\"GFG is a good compny and alays value ttheir employees.\"\n",
    "\n",
    "text_pre=TextBlob(text).correct()\n",
    "print(text_pre)"
   ]
  },
  {
   "cell_type": "markdown",
   "metadata": {},
   "source": [
    "#### 3.7b"
   ]
  },
  {
   "cell_type": "code",
   "execution_count": null,
   "metadata": {},
   "outputs": [],
   "source": [
    "#install autocorrect library\n",
    "# pip install autocorrect\n",
    "from autocorrect import spell\n",
    "text=\"GFG is a good compny and alays value ttheir employees.\"\n",
    "\n",
    "text_pre=spell(text)\n",
    "print(text_pre)"
   ]
  }
 ],
 "metadata": {
  "kernelspec": {
   "display_name": "venv",
   "language": "python",
   "name": "python3"
  },
  "language_info": {
   "codemirror_mode": {
    "name": "ipython",
    "version": 3
   },
   "file_extension": ".py",
   "mimetype": "text/x-python",
   "name": "python",
   "nbconvert_exporter": "python",
   "pygments_lexer": "ipython3",
   "version": "3.12.4"
  }
 },
 "nbformat": 4,
 "nbformat_minor": 2
}
