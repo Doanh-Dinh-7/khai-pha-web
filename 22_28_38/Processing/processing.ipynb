{
 "cells": [
  {
   "cell_type": "markdown",
   "metadata": {},
   "source": [
    "  Chuyển văn bản thành chữ thường;\n",
    "  Loại bỏ URL;\n",
    "  Xóa dấu câu;\n",
    "  Xóa chữ số;\n",
    "  Tách câu;\n",
    "  Chuyển biểu tượng cảm xúc thành văn bản (Emojis and Emoticons);\n",
    "  Xóa các từ không có nghĩa (Stop Words);\n",
    "  Chuẩn hóa văn bản (Standardizing Text);\n",
    "  Sửa lỗi chính tả (Correcting Spelling);\n",
    "  Tách từ (Tokenizing);\n",
    "  Chuẩn hóa từ (Stemming and Lemmatization);\n",
    "  Khám phá dữ liệu văn bản (Exploring Text Data);"
   ]
  },
  {
   "cell_type": "code",
   "execution_count": 5,
   "metadata": {},
   "outputs": [
    {
     "name": "stdout",
     "output_type": "stream",
     "text": [
      "['C:\\\\Users\\\\ADMIN/nltk_data', 'd:\\\\PythonRaymond\\\\LinhTinh\\\\KPW\\\\venv\\\\nltk_data', 'd:\\\\PythonRaymond\\\\LinhTinh\\\\KPW\\\\venv\\\\share\\\\nltk_data', 'd:\\\\PythonRaymond\\\\LinhTinh\\\\KPW\\\\venv\\\\lib\\\\nltk_data', 'C:\\\\Users\\\\ADMIN\\\\AppData\\\\Roaming\\\\nltk_data', 'C:\\\\nltk_data', 'D:\\\\nltk_data', 'E:\\\\nltk_data']\n",
      "autocorrect.spell is deprecated,             use autocorrect.Speller instead\n",
      "autocorrect.spell is deprecated,             use autocorrect.Speller instead\n",
      "autocorrect.spell is deprecated,             use autocorrect.Speller instead\n",
      "autocorrect.spell is deprecated,             use autocorrect.Speller instead\n",
      "autocorrect.spell is deprecated,             use autocorrect.Speller instead\n",
      "autocorrect.spell is deprecated,             use autocorrect.Speller instead\n",
      "autocorrect.spell is deprecated,             use autocorrect.Speller instead\n",
      "autocorrect.spell is deprecated,             use autocorrect.Speller instead\n",
      "autocorrect.spell is deprecated,             use autocorrect.Speller instead\n",
      "autocorrect.spell is deprecated,             use autocorrect.Speller instead\n",
      "autocorrect.spell is deprecated,             use autocorrect.Speller instead\n",
      "autocorrect.spell is deprecated,             use autocorrect.Speller instead\n",
      "autocorrect.spell is deprecated,             use autocorrect.Speller instead\n",
      "autocorrect.spell is deprecated,             use autocorrect.Speller instead\n",
      "autocorrect.spell is deprecated,             use autocorrect.Speller instead\n",
      "autocorrect.spell is deprecated,             use autocorrect.Speller instead\n",
      "autocorrect.spell is deprecated,             use autocorrect.Speller instead\n",
      "autocorrect.spell is deprecated,             use autocorrect.Speller instead\n",
      "autocorrect.spell is deprecated,             use autocorrect.Speller instead\n",
      "autocorrect.spell is deprecated,             use autocorrect.Speller instead\n",
      "autocorrect.spell is deprecated,             use autocorrect.Speller instead\n",
      "autocorrect.spell is deprecated,             use autocorrect.Speller instead\n",
      "autocorrect.spell is deprecated,             use autocorrect.Speller instead\n",
      "autocorrect.spell is deprecated,             use autocorrect.Speller instead\n",
      "autocorrect.spell is deprecated,             use autocorrect.Speller instead\n",
      "autocorrect.spell is deprecated,             use autocorrect.Speller instead\n",
      "autocorrect.spell is deprecated,             use autocorrect.Speller instead\n",
      "autocorrect.spell is deprecated,             use autocorrect.Speller instead\n",
      "autocorrect.spell is deprecated,             use autocorrect.Speller instead\n",
      "autocorrect.spell is deprecated,             use autocorrect.Speller instead\n"
     ]
    }
   ],
   "source": [
    "from emot.emo_unicode import UNICODE_EMOJI # For emojis\n",
    "from emot.emo_unicode import EMOTICONS_EMO # For EMOTICONS\n",
    "import re\n",
    "from bs4 import BeautifulSoup\n",
    "import os\n",
    "from nltk.corpus import stopwords\n",
    "import nltk\n",
    "from autocorrect import spell\n",
    "print(nltk.data.path)\n",
    "\n",
    "\n",
    "def converting_emojis(text):\n",
    "    for x in EMOTICONS_EMO:\n",
    "        text = text.replace(x, \"_\".join(EMOTICONS_EMO[x].replace(\",\",\"\").replace(\":\",\"\").split()))\n",
    "    for x in UNICODE_EMOJI:\n",
    "        text = text.replace(x, \"_\".join(UNICODE_EMOJI[x].replace(\",\",\"\").replace(\":\",\"\").split()))\n",
    "    return text\n",
    "\n",
    "def XoaTag(html):\n",
    "    soup=BeautifulSoup(html,'html.parser')\n",
    "    for data in soup(['style','script']):\n",
    "        data.decompose()\n",
    "    return ' '.join(soup.stripped_strings)\n",
    "\n",
    "#remove stop words\n",
    "stop = stopwords.words('english')\n",
    "\n",
    "for i in range (1,31):\n",
    "    with open(f'../Data/{i}.txt', 'r', encoding='utf-8') as file:\n",
    "        content = file.read()\n",
    "        thuong=content.lower()\n",
    "        # tachcau = nltk.sent_tokenize(thuong)\n",
    "        xoadau = re.sub(r'[^\\w\\s]','',thuong)\n",
    "        tag = XoaTag(xoadau)\n",
    "        so = re.sub(r'\\d+',' ',tag)\n",
    "        icon = converting_emojis(so)\n",
    "        stopword = \" \".join(text for text in icon.split() if text not in stop)\n",
    "        chinhta=spell(stopword)\n",
    "        tachtu=nltk.word_tokenize(chinhta)\n",
    "        with open(f'../Processing/{i}x.txt', 'w', encoding='utf-8') as file:\n",
    "            file.write(chinhta)\n",
    "    "
   ]
  }
 ],
 "metadata": {
  "kernelspec": {
   "display_name": "venv",
   "language": "python",
   "name": "python3"
  },
  "language_info": {
   "codemirror_mode": {
    "name": "ipython",
    "version": 3
   },
   "file_extension": ".py",
   "mimetype": "text/x-python",
   "name": "python",
   "nbconvert_exporter": "python",
   "pygments_lexer": "ipython3",
   "version": "3.12.4"
  }
 },
 "nbformat": 4,
 "nbformat_minor": 2
}
