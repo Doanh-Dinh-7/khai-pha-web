{
 "cells": [
  {
   "cell_type": "code",
   "execution_count": 1,
   "metadata": {},
   "outputs": [
    {
     "name": "stderr",
     "output_type": "stream",
     "text": [
      "<>:38: SyntaxWarning: invalid escape sequence '\\d'\n",
      "<>:38: SyntaxWarning: invalid escape sequence '\\d'\n",
      "C:\\Users\\ADMIN\\AppData\\Local\\Temp\\ipykernel_18528\\649168969.py:38: SyntaxWarning: invalid escape sequence '\\d'\n",
      "  text_pre = re.sub(\"\\d+\", \" \", text_pre) # Xóa chữ số\n"
     ]
    },
    {
     "name": "stdout",
     "output_type": "stream",
     "text": [
      "đẹp khuôn_mặt vuông thể sử_dụng kỹ_thuật trang kết_hợp kiểu tóc khuôn_mặt hài_hoà kem hơi sậm khuôn_mặt kem phấn nâu sậm đánh hai góc_cạnh khuôn_mặt phấn màu đánh trán mũi quầng mắt độ khuôn_mặt phủ lớp phấn chân_mày chì đen dáng chân_mày cong nhẹ phù_hợp khuôn mătå má hồng màu ánh bạc đánh vát hai má môi vẽ đường sắc viền son tô kín môi tóc cắt hơi tém ôm hai mặt khuôn_mặt thon_thả\n",
      "cọ lùn tuyến tiền_liệt phì đại tiền liệt_tuyến đọc tài_liệu nhắc cọ lùn thể chữa bệnh thuốc cọ lùn ngại mổ thông niệu_đạo đau_đớn phẫu_thuật tai_biến sĩ thuốc cọ lùn thực chữa bệnh thể mua trần văn thinh gò vấp tphcm sĩ đào quang oánh trưởng khoa niệu b bệnh_viện bình_dân tphcm phì đại tiền liệt_tuyến bệnh_lý nam_giới thể ác lành siêu_âm bụng phương_pháp chẩn_đoán phổ_biến hiện thể phân_biệt lành ác bướu lành gọi phì đại tiền liệt_tuyến sinh lành tiền liệt_tuyến bướu lành bệnh_nhân hướng định_giá triệu_chứng bảng thang tổ_chức y_tế giới bướu triệu_chứng nhẹ giải_phẫu triệu_chứng trị nội_khoa tùy triệu_chứng thuốc thuốc trích cọ lùn serenoa repens thuốc thực_vật đánh_giá an_toàn tác_dụng phụ thể uống hiệu chữa lành chắn đại_diện thuốc thông_dụng tadenan pygeum africanum thể mua thuốc hiệu thuốc quanh bệnh_viện bình_dân chợ rẫy\n",
      "ngăn_ngừa bệnh ung_thư vú lứa công_trình nghiên_cứu khoa_học kết_luận mắc bệnh ung_thư vú bệnh coi bệnh sợ phương_pháp phòng_ngừa lứa phụ_nữ lứa nghiên_cứu phòng_chống nhiên hiệu đối_ung_thư vú đời phụ_nữ_sinh nguy ung_thư vú phụ_nữ bao sinh cạnh rèn_luyện thể phương_pháp phòng_ngừa hiệu thể nguy nghiên_cứu trình tập_luyện xuyên estrogen thể phụ_nữ trẻ estrogen tích_tụ dư_thừa hình_thành u vú tuần rèn_luyện thể nguy ung_thư vú lứa tỉ_lệ sinh_đẻ đối phụ_nữ đặc phụ_nữ_sinh cân kg nguy ung_thư vú tế_bào mỡ sản_xuất ostrogen thể_trọng kích khối_u_vú hình_thành phát_triển hút thuốc_lá tác_nhân ung_thư vú chiếm tỉ_lệ phòng_chống xuyên rèn_luyện thể_chế_độ hợp_lý phụ_nữ bổ_sung axit folic hằng lứa trung_tâm nghiên_cứu ung_thư bắc california mỹ khuyên xuyên tắm nắng mặt_trời nguy ung_thư vú tắm nắng phút thể giúp thu_nạp vitamin d_thiết lứa phụ_nữ xuyên đi chụp x quang phát_hiện khối_u vú biện_pháp_trị kịp_thời nghiên_cứu thụy điển kết_luận xuyên chụp xquang phát_hiện khối_u_thể nguy lứa sĩ chuyên_khoa phụ_nữ mắc bệnh ung_thư lứa chế_độ cân nguy bệnh liệu_pháp thay hoocmon phụ_nữ thời_kỳ mãn_kinh thực_hiện_thời_gian ngắn áp_dụng liệu_pháp vòng thể nguy ung_thư vú phụ_nữ gia_đình tiền_sử mắc bệnh ung_thư vú áp_dụng liệu_pháp\n",
      "copd hen_suyễn hút thuốc trung_bình góingày thuốc ho khạc đàm trắng thở cố_gắng đi khám bệnh phổi tắc_nghẽn hen_suyễn thực bệnh chữa hoàng tphcm thsbs lê khắc bảo bệnh_viện đại_học y dược tphcm chẩn_đoán hen chẩn_đoán bệnh phổi tắc_nghẽn mạn copd dấu_hiệu lâm_sàng gợi bệnh trường_hợp thăm_dò cận lâm_sàng hô_hấp ký thực_hiện test dãn phế_quản sức_thiết hen hô_hấp ký tình_trạng tắc_nghẽn đường thở phục_hồi test dãn phế_quản copd hô_hấp ký tình_trạng tắc_nghẽn đường thở phục_hồi test dãn phế_quản_thể bệnh_viện đại_học y dược xét_nghiệm tham_vấn trị bệnh hen copd hai bệnh phổi mạn thể trị hoàn_toàn_thể kiểm_soát giúp bệnh sống bình\n",
      "lưu sử_dụng son môi tôn_vinh_vẻ gợi_cảm đôi môi nữ đắc_địa_son hồng sơn môi hoàn_toàn vô_hại tưởng chút kiêng_dè sử_dụng chất dầu sáp_ong phẩm màu chất bảo_quản thành son môi phẩm màu át chủ kẻ tiềm_năng rắc_rối thể thông ta axít đặc_biệt gọi axít đỏ nhuộm màu_sắc_tố mặt xuyên thể độc gan thận lanolin thành quan_trọng son môi cảnh_báo thể ngấm da đặc_biệt năng máy hút_bụi tham_lam vơ bụi_bặm phân_tử rắn kim silic nấm_mốc vi_sinh_vật quần_đảo dày_đặc khí tai_hại chỗ đường môi miệng ngắn tày gang uống liếm môi kẻ mời kia chẳng ngại lối lọt khoang miệng nhãn_tiền chất dị_ứng vi_khuẩn bệnh khoang miệng kẻ trận đầu_tiên bỏng rộp ngứa_ngáy nứt_nẻ viêm tấy bưng mủ dừng chất_độc tiếp_tục giang bọt chu du lượt dày tuần_hoàn gan thận vạ lưu son môi khả_năng gia hiện_tượng nhạy_cảm_ánh bắt nắng sạm da môi fan môi trầm hàn quốc lẽ nguyên_lý đơn_giản vật màu sậm bắt nắng bắt nhiệt tế_nhị gái trẻ đôi môi vị_trí nhạy_cảm_nhì thể phụ_nữ tập_trung đầu mút thần_kinh xúc_giác tô son môi tham xuyên vô_tình lớp màn chắn tước hội thực_hành đầu mút thần_kinh kiện văn ôn võ luyện dây thần_kinh tinh_tế dần tinh_nhạy cùn mòn cảm_giác thể thiệt_thòi gái nụ hôn ngào_hóa nhạt ốc\n",
      "rối_loạn cương bệnh tim_mạch chồng thời_gian sinh_hoạt vợ_chồng sút hẳn lo_lắng lắm bất_lực nguyên_nhân bệnh huyết_áp sĩ độc_giả tiến_sĩ nguyễn hữu đức giảng_viên đại_học y dược tphcm chế cương cứng kích tình_dục giác_quan liên_tưởng trí_não hệ thần_kinh hoạt_động thông truyền_thần_kinh máu dồn dương_vật phận căng phồng cương cứng kết tổng_hợp hài hòa yếu_tố thần kinhtâm lý nội_tiết tuần hoànmạch máu giải phẫumô học quan sinh_dục nam khiếm_khuyết yếu_tố máu dương_vật rối_loạn cương rlc rlc huyết_áp kết tổn_thương thực_thể co hẹp mạch_máu rlc dấu_hiệu đầu_tiên tưới máu tuần_hoàn_thể rối_loạn thể dàng phát_hiện huyết_áp tiềm_ẩn bệnh_nhân huyết_áp thời_gian thăm_dò tỉ_lệ huyết_áp nam_giới rlc nam_giới rlc ta khuyên rlc nam_giới sĩ phát_hiện trị bệnh nguy_hiểm tiềm_ẩn huyết_áp phòng_ngừa biến_chứng nguy_hiểm đột_quỵ tai_biến mạch_máu não thể xảy\n",
      "lưu sử_dụng mỹ_phẩm đôi mua son kem chống nắng đắt tiền mỹ_phẩm cất tình_trạng da mẩn sần_sùi mắt đỏ thông thời_hạn gìn mỹ_phẩm hỏng thời_hạn mascara kem dưỡng da kem chống nắng kem nâu da sản_phẩm tẩy lông mỹ_phẩm sữa tẩy trắng sữa tắm dưỡng da toàn_thân kem lót chì kẻ mắt môi_son dưỡng môi sản_phẩm chứa thành tinh_dầu phấn bột phấn bánh sơn móng mascara sản_phẩm cẩn_trọng bảo_quản sử_dụng sử_dụng da nhạy_cảm tổn_thương gương_mặt tiên mua sản_phẩm hãng mỹ_phẩm uy_tín chất đặc_biệt giai_đoạn kiểm_tra dị_ứng sản_phẩm trình sử_dụng chải lông_mi ngập chổi chổi khô kem chống nắng sử_dụng kem ngoái thể thay màu đổi mùi chất cản nắng suy khả_năng bảo_vệ làn da kem lót son môi bảo_quản đậy vặn nút chặt khô thoáng mát ánh nắng mặt_trời trực_tiếp chiếu dụng_cụ trang chổi cọ bàn_chải vệ_sinh sạch xuyên đường vi_khuẩn dàng xâm_nhập da\n",
      "khống_chế béo phì béo phì bệnh mỡ thể_tích_tụ năng cung năng sử_dụng tiêu_hao mỡ dư_thừa tồn_đọng thể độ béo phì nghiên_cứu trọng_thể đánh_giá độ béo ta sử_dụng khối thể body mass index gọi tắt bmi bmi quetelet index trọng_thể_hiện kg chia bình_phương chiều mét kgm tổ_chức y_tế giới béo phì bmi đối nam_giới bmi đối nữ_giới ðể xác ta quy_định bmi béo phì bmi béo phì thành bệnh béo phì nguyên_nhân béo phì yếu_tố di_truyền nghiên_cứu trẻ sinh_đôi bệnh béo tác_động yếu_tố di_truyền_di_thể chromosome bệnh béo chromosome di_thể ảnh_hưởng kiểm_soát ham uống đốt năng phận thể môi_trường sinh_sống bệnh béo xảy kiện xã_hội nghèo_khổ phát_triển môi_trường uống ðối già thể đốt năng chậm đi già hoạt_động béo béo phì uống hoàn_cảnh đơn hoạt_động bệnh béo phát_triển thai kiện tác_động béo phụ_nữ mặc_dầu trọng phụ_nữ_sinh_đẻ trọng thai bệnh não u não nhiễm_khuẩn não đồi hypothalamus béo bệnh nhược tuyến_giáp hội_chứng cushings khả_năng béo phì thuốc thuốc khả_năng cân đặc_biệt thuốc nội_tiết steroides thuốc hoạt_động tâm_lý thuốc chống trầm_cảm thuốc benzodiazepin lithium thuốc chữa tâm_lý bệnh béo phì liên_quan bệnh bệnh béo phì chữa_trị khả_năng bệnh nguy_hiểm_cụ_thể thể bệnh tiểu_đường_huyết_áp bệnh tim nhồi máu tim béo phì ngáy ngủ ôxy ngủ ðàn béo phì nguy ung_thư vú ung_thư túi_mật ðàn béo phì nguy ung_thư tuyến tiền_liệt tỷ_lệ ung_thư đường ruột bệnh sỏi mật bệnh gan bệnh thực_quản tài_liệu y_học giới béo phì béo phì bệnh thoái_hóa khớp xương_xương_sống_lưng xương hông háng tần_suất phụ_nữ béo phì nam_giới chữa bệnh béo phì biến_chứng_bệnh nam_giới hạn_chế chữa_trị bệnh béo phì uống thành thức rau chất xơ chất thịt chất_béo nấu_nướng hấp nướng luộc chiên xào hạn_chế vặt tập_luyện thể_dục hạn_chế uống đi_đôi tập_luyện thể_dục cố xây_dựng nếp sống vận_động xuyên gia_đình hưu_trí rỗi kiếm hoạt_động nằm hại thuốc trị thuốc hiện thị_trường tác_dụng cảm_giác cân tác_dụng trực_tiếp tiêu_hao năng thuốc fenfluramin phentermin sibutramin thuốc phản_ứng phụ tim_mạch thận_trọng phương_pháp ngoại_khoa surgery bệnh béo phì bmi biến_chứng đe_dọa mạng thể sử_dụng phương_pháp phẫu_thuật chữa_trị\n",
      "phòng trị viêm da mủ bình da tạp khuẩn tụ cầu_khuẩn liên cầu_khuẩn tập_trung lông đọng mồ_hôi nếp kẽ lỗ chân_lông kiện thuận_lợi thể suy_yếu sức đề_kháng vệ_sinh kém ngứa gãi xây sát da vi_khuẩn sinh độc bệnh da gọi viêm da mủ ta phân_chia bệnh viêm da mủ tụ cầu_khuẩn liên cầu_khuẩn viêm da mủ tụ cầu_khuẩn tụ cầu_khuẩn tổn_thương nang lông thể bệnh viêm nang lông nông viêm nông đầu lỗ chân_lông ban_đầu lỗ chân_lông hơi sưng đỏ đau thành mụn mủ quanh chân lông quầng viêm hẹp mụn mủ khô vẩy tiết màu nâu sẫm vẩy bong đi sẹo viên nang lông sâu quanh nang lông sưng tấy cụm quanh lỗ chân_lông mụn mủ mụn mủ thể rải_rác tập_trung_thành đám đỏ cứng cộm gồ_ghề nặn mủ viêm nang lông sâu cằm_gáy da đầu tiến_triển dai_dẳng tái_phát ðiều trị kháng_sinh toàn_thân đợt kết_hợp vitamin chế_độ đạm sức đề_kháng_thể nhọt tình_trạng viêm nang lông nhọt to thể kèm sốt hạch bạch_huyết sưng đau nhọt lỗ tai đau dân_gian gọi đằng_đằng nhọt quanh miệng gọi đinh_râu nguy_hiểm_thể tắc tĩnh_mạch nhiễm_khuẩn huyết tử_vong hậu_bối gọi đinh_hương_sen cụm đinh nhọt gáy lưng mông tụ cầu vàng độc bệnh già_yếu nghiện rượu tiểu_đường uống kém vỡ mủ ngòi lỗ_chỗ tổ ong thể biến_chứng nhiễm_khuẩn huyết tử_vong nhọt bày đinh nhọt mọc liên_tiếp đợt đợt dai_dẳng hàng suy_nhược sức đề_kháng ðiều trị kháng_sinh thể uống tiêm truyền tĩnh_mạch vitamin đạm gama globulin nâng sức đề_kháng_thể chỗ tuyệt_đối chích nặn giai_đoạn viêm tấy_hóa mủ nặn biến_chứng nhiễm_khuẩn huyết nguy_hiểm_nhọt ổ_gà viêm nang kèm viêm tuyến mồ_hôi tuyến bã nách thành túi mủ sâu bì hạ_bì tổn_thương nổi thành cục nách ban_đầu cứng mềm dần vỡ mủ thể nhọt ổ_gà hố nách bệnh tiến_triển dai_dẳng tái_phát mùa hè ðiều trị kháng_sinh toàn_thân đợt ðối tổn_thương tái_phát thể phẫu_thuật viêm da mủ liên cầu_khuẩn chốc lây tụ cầu_khuẩn liên cầu_khuẩn phối_hợp bệnh trẻ vị_trí đầu_mặt cổ_chân bệnh lây trẻ trẻ thể thành dịch trẻ trường_học trẻ chốc đầu thành đám vẩy vàng sâu dính bết tóc lớp vảy da trợt đỏ rớm dịch_hạch lân_cận sưng đau bệnh thể biến_chứng viêm cầu thận biểu_hiện phù tiểu xét_nghiệm protein niệu ðiều trị kháng_sinh toàn_thân chỗ thuốc sát_trùng bôi đắp gạc bong vẩy bôi xanh methylen dung_dịch milian vẩy tróc bong thể bôi mỡ kháng_sinh chốc loét chốc tổn_thương lan sâu trung bì chốc loét bệnh_nhân suy dinh_dưỡng_bệnh tiểu_đường nghiện rượu vị_trí cẳng_chân cổ_chân chân giãn tĩnh_mạch bệnh bắt_đầu chốc lây mủ da xung_quanh vết loét tím_tái tiến_triển dai_dẳng liền sẹo ðiều trị kháng_sinh đợt kết_hợp vitamin đạm chiếu tia cực_tím hăm kẽ gọi viêm bì thượng bì vi_khuẩn trẻ trẻ mập_mạp béo mập mồ_hôi hăm kẽ nếp cổ kẽ bẹn kẽ mông kẽ_tai_rốn tổn_thương đám đỏ trợt rớm dịch viền róc da mỏng đau rát ðiều trị rửa sạch tổn_thương thuốc_tím chấm dung_dịch yarish chốc mép trẻ tổn_thương đơn_độc kèm tổn_thương liên cầu_khuẩn hai kẽ mép nứt trợt rớm dịch đóng vẩy vàng chảy_máu đau rát trẻ uống thể lây uống chén khăn mặt kèm sưng đau hạch hàm ðiều trị chấm dung_dịch yarish thuốc màu thuốc_mỡ kháng_sinh\n",
      "đẹp màu hiện mỹ_phẩm dạng trang mỹ_phẩm gợi_cảm khuôn_mặt pha nhũ kem đánh che khuyết mặt phủ lớp phấn bình mắt đánh toàn bầu mắt mắt màu nhũ vàng nhấn mí mắt màu vàng đồng mí mắt đuôi màu nâu mắt chiều sâu vuốt mascara độ cong lông_mi má đánh vát hai má môi môi màu cam\n"
     ]
    }
   ],
   "source": [
    "import os\n",
    "import re\n",
    "import nltk\n",
    "from urllib.parse import urlsplit\n",
    "from nltk.corpus import stopwords\n",
    "from pyvi import ViTokenizer\n",
    "from textblob import TextBlob\n",
    "from bs4 import BeautifulSoup\n",
    "import shutil\n",
    "\n",
    "# Thư mục nguồn\n",
    "source_dir = 'D:/22/Cau2/Data'\n",
    "\n",
    "# Thư mục đích\n",
    "destination_dir = 'D:/22/Cau2/Data/Preprocessing'\n",
    "\n",
    "\n",
    "# Hàm xóa các thẻ HTML không cần thiết\n",
    "def XoaTag(html):\n",
    "    soup = BeautifulSoup(html, 'html.parser')\n",
    "    for data in soup(['style', 'script']):\n",
    "        data.decompose()\n",
    "    return ' '.join(soup.stripped_strings)\n",
    "\n",
    "i=1\n",
    "\n",
    "for file in os.listdir(source_dir):\n",
    "    try:\n",
    "        # Đọc nội dung của tệp\n",
    "        with open(os.path.join(source_dir, file), 'r', encoding='utf-8') as f:\n",
    "            text = f.read()\n",
    "\n",
    "        text_pre=text.replace(\"\\n\",\"\")    \n",
    "        text_pre=text.lower() # Chuyển văn bản thành chữ thường    \n",
    "        text_pre = re.sub(r\"http(s)?://\\S+\", \"\", text_pre) # Loại bỏ URL\n",
    "        text_pre = XoaTag(text_pre) # Xoá thẻ HTML\n",
    "        text_pre=re.sub(r'[^\\w\\s]','',text_pre) # Xóa dấu câu\n",
    "        text_pre = re.sub(\"\\d+\", \" \", text_pre) # Xóa chữ số\n",
    "        text_pre = re.sub(r\"[!@#$[]()]'\", \"\", text_pre) # Xoá kí tự đặc biệt: !@#$[]()\n",
    "        text_pre = nltk.sent_tokenize(text_pre) # Tách câu\n",
    "        text_pre = ''.join(text_pre)\n",
    "\n",
    "        # Xóa các từ không có nghĩa (Stop Words);\n",
    "        path=os.path.join(\"D:/22\")\n",
    "        f = open(path+r\"/vietnamese-stopwords.txt\", \"r\", encoding=\"utf-8\")\n",
    "        List_StopWords=f.read().split(\"\\n\")\n",
    "        text_pre=\" \".join(text_pre for text_pre in text_pre.split() if text_pre not in List_StopWords)\n",
    "\n",
    "        text_pre = ViTokenizer.tokenize(text_pre) # Tách từ (Tokenizing)\n",
    "\n",
    "        print (text_pre)\n",
    "\n",
    "        # Ghi nội dung đã được tiền xử lý vào một tệp mới\n",
    "        with open(os.path.join(destination_dir, f'22_Pre{i}.txt'), 'w',encoding='utf-8') as f:\n",
    "            for word in text_pre:\n",
    "                f.write(word)\n",
    "        i+=1\n",
    "    except:\n",
    "        break"
   ]
  }
 ],
 "metadata": {
  "kernelspec": {
   "display_name": "venv",
   "language": "python",
   "name": "python3"
  },
  "language_info": {
   "codemirror_mode": {
    "name": "ipython",
    "version": 3
   },
   "file_extension": ".py",
   "mimetype": "text/x-python",
   "name": "python",
   "nbconvert_exporter": "python",
   "pygments_lexer": "ipython3",
   "version": "3.12.4"
  }
 },
 "nbformat": 4,
 "nbformat_minor": 2
}
