{
 "cells": [
  {
   "cell_type": "code",
   "execution_count": 26,
   "metadata": {},
   "outputs": [],
   "source": [
    "import os\n",
    "from selenium import webdriver\n",
    "from selenium.webdriver.common.by import By\n",
    "from selenium.webdriver.chrome.service import Service\n",
    "from webdriver_manager.chrome import ChromeDriverManager\n"
   ]
  },
  {
   "cell_type": "code",
   "execution_count": 28,
   "metadata": {},
   "outputs": [],
   "source": [
    "# Thiết lập trình duyệt\n",
    "driver = webdriver.Chrome(service=Service(ChromeDriverManager().install()))\n",
    "\n",
    "# Danh sách để lưu các link\n",
    "links = []\n",
    "\n",
    "for page in range(1, 168):\n",
    "    url = f\"https://baodaklak.vn/khoa-hoc-cong-nghe/?paged={page}\"\n",
    "    driver.get(url)\n",
    "\n",
    "    # Cào các thẻ a với class 'title1' hoặc 'title1 photo'\n",
    "    elements = driver.find_elements(By.CSS_SELECTOR, \"a.title1, a.title1.photo\")\n",
    "    \n",
    "    for element in elements:\n",
    "        href = element.get_attribute('href')\n",
    "        if href in links:\n",
    "            continue\n",
    "        links.append(href)\n",
    "\n",
    "# Đóng trình duyệt\n",
    "driver.quit()\n",
    "\n",
    "with open('Cau2.txt', 'w', encoding='utf-8') as file:\n",
    "    # In ra danh sách các link\n",
    "    for link in links:\n",
    "        file.write(link + '\\n')"
   ]
  }
 ],
 "metadata": {
  "kernelspec": {
   "display_name": "venv",
   "language": "python",
   "name": "python3"
  },
  "language_info": {
   "codemirror_mode": {
    "name": "ipython",
    "version": 3
   },
   "file_extension": ".py",
   "mimetype": "text/x-python",
   "name": "python",
   "nbconvert_exporter": "python",
   "pygments_lexer": "ipython3",
   "version": "3.12.4"
  }
 },
 "nbformat": 4,
 "nbformat_minor": 2
}
