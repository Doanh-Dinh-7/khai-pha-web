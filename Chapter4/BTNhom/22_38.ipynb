{
 "cells": [
  {
   "cell_type": "markdown",
   "metadata": {},
   "source": [
    "# Extrac file 5.zip Brefor RUNALL"
   ]
  },
  {
   "cell_type": "markdown",
   "metadata": {},
   "source": [
    "# Tien xu ly"
   ]
  },
  {
   "cell_type": "code",
   "execution_count": 1,
   "metadata": {},
   "outputs": [],
   "source": [
    "import os\n",
    "import re\n",
    "import nltk\n",
    "from urllib.parse import urlsplit\n",
    "from nltk.corpus import stopwords\n",
    "from pyvi import ViTokenizer\n",
    "from textblob import TextBlob\n",
    "from bs4 import BeautifulSoup\n",
    "import shutil\n",
    "import math\n",
    "import pandas as pd"
   ]
  },
  {
   "cell_type": "code",
   "execution_count": 10,
   "metadata": {},
   "outputs": [
    {
     "name": "stderr",
     "output_type": "stream",
     "text": [
      "<>:20: SyntaxWarning: invalid escape sequence '\\d'\n",
      "<>:20: SyntaxWarning: invalid escape sequence '\\d'\n",
      "C:\\Users\\ADMIN\\AppData\\Local\\Temp\\ipykernel_22084\\892584583.py:20: SyntaxWarning: invalid escape sequence '\\d'\n",
      "  text_pre = re.sub(\"\\d+\", \" \", text_pre) # Xóa chữ số\n"
     ]
    },
    {
     "name": "stdout",
     "output_type": "stream",
     "text": [
      "['sành_điệu giày giày vật_dụng thân_thiết hỗ_trợ đắc_lực góp phong thời_trang', 'mẫu giày phù_hợp vóc_dáng phục_trang thiết_kế giày trở xu_hướng cổ_điển kiểu lịch_thiệp', 'tiết trời nắng_nóng nữ thể mẫu giày búp_bê_tông màu xanh rêu ánh bạc hồng dâu', 'kiểu giày thiết_kế thoáng_khí hở đem cảm_giác mát_mẻ đồng_thời nhấn điệu phong độc_đáo', 'đối_nam mẫu_đơn_giản tông màu nâu xám da_bò trẻ_trung lịch_lãm', 'mùa nắng_nóng giày sử_dụng chất_liệu da da lộn hệ_thống thoát khí thông_minh tiêu ưa', 'thể mua mẫu giày độc_quyền thương_hiệu nổi_tiếng clarks giá triệu đồngđôi tầng zen plaza', 'niki mahajan thổi hồn sa_mạc thời_trang mẫu thiết_kế mahajan khuôn_khổ tuần_lễ thời_trang wills lifestyle ấn độ diễn new delhi thiết_kế niki mahajan giới_thiệu sưu_tập cảm_hứng bang sa_mạc rajasthannằm tây ấn độ rajasthan nóng du_lịch nổi_tiếng màu_sắc dân_dã sống_động', 'sưu_tập thiết_kế niki mahajan thực_thu_hút quan_tâm đông_đảo giới chuyên_môn nhiên hài_hòa', 'tất dường tái_hiện tranh sống_động sa_mạc rajasthan', 'tham_gia thiết_kế malini ramani sưu_tập bữa tiệc namrata joshipura sưu_tập_vẻ lộng_lẫy căng_thẳng', 'thời_trang giản_đơn tiện_dụng cầu kỳ phá khêu_gợi lạ xu_hướng thời_trang trở_đơn_giản_tiện_dụng hòa_nhập sắc_màu sống đời london new york milan los angeles bắc kinh thiết_kế nổi_tiếng giới rầm_rộ trình_làng sưu_tập xuân hè thu đông tuần_lễ thời_trang danh_tiếng', 'hãng thời_trang hàng_đầu gucci versace chanel calvin klein', 'lượt mắt sưu_tập âm_hưởng sống hiện_đại', 'thời_trang ứng_dụng thiết_kế dựa cảm_hứng hoa cỏ valentino xuân hè tuần_lễ thời_trang milan quy_tụ mẫu hãng thời_trang danh_tiếng cạnh mẻ thiết_kế chất trình_diễn giới yêu thời_trang chứng_kiến trở thời_trang ứng_dụng', 'trang_phục hội vốn cảm_hứng kiểu xuất_hiện thiết_kế đơn_giản', 'hãng thời_trang giorgio armani tung sưu_tập đầm ngắn hai dây dây thân suôn xếp lớp cầu kỳ đi áo_choàng lụa lông trọng quyến_rũ', 'hãng thời_trang danh_tiếng emporio armani mắt thiết_kế nhẹ_nhàng satin thân váy ôm sát chân váy gót đi giày đế thể_hiện năng_động tiện_dụng', 'quần tây chiếm_lĩnh thiết_kế xuân hè gucci versace dampg', 'quần loe suôn thịnh_hành nhường quần ống bó sát vặn', 'gucci mắt áo thun sọc cổ voan hoa_văn nhẹ_nhàng đi quần tây gọn_gàng tiện_lợi versace dampg tung thiết_kế trẻ_trung quần lửng gối áo cổ rộng mềm_mại đi giày gót', 'quần tây dạo phố gucci giúp giới nữ đẹp công_sở trọng vest ngắn khoác', 'cảm_hứng thiên_nhiên ngập_tràn đen trắng gam trầm vị_trí chủ_đạo thiết_kế', 'thiên_nhiên biến_hóa òa xuân hè muôn màu_sắc', 'hãng thời_trang calvin klein jmendel phi_valentino', 'mắt thiết_kế dựa cảm_hứng loài hoa cỏ', 'quần lửng áo cổ rộng thiết_kế versace xuân hè trái đầm hội đơn_giản quyến_rũ thiết_kế j', 'mendel sưu_tập calvin klein xuân hè màu xanh lá trắng chất_liệu lụa cánh nhẹ_nhàng trang_nhã dries van noten gam đỏ cánh hoa_màu trắng sưu_tập váy_đầm ấn_tượng cá', 'hãng thời_trang valentino phi_tung sưu_tập váy ngắn hoa_màu_sắc chất_liệu voan satin', 'thiên_nhiên ấn_tượng sưu_tập thuđông thiết_kế chất_liệu lông nhấn trang_phục', 'biến_tấu thiết_kế lông gấu váy lông xuất_hiện mũ áo_choàng cổ áo áo_khăn_quàng', 'ấm_áp trọng kém quyến_rũ mùa thu đông', 'lễ_hội thời_trang singapore lily cole đại_lộ orchard lễ_hội thời_trang singapore nlđotừ lễ_hội thời_trang thu_hút mẫu sản_xuất thời_trang nổi_tiếng giới tổ_chức singapore', 'lễ_hội thời_trang singapore hội tuyệt_vời du_lịch mua_sắm cánh ưng nhấtđiểm nhấn lễ_hội xuất_hiện siêu_mẫu lily cole', 'gái gương_mặt búp_bê bầu gương_mặt lễ_hội thu_hút quan_tâm đặc_biệt giới truyền_thông châu', 'lễ_hội thời_trang singapore thu_hút mẫu danh_tiếng khắp_giới machka thổ nhĩ_kỳ trucco tây_ban nha coast park đan mạch thương_hiệu nổi_tiếng furstenberg missoni ashley isham', 'sản_phẩm lorealmatrix lancôme trình_diễn lễ_hội', 'lễ_hội thời_trang singapore hình_thành trở_thành kiện thời_trang nổi_tiếng châu tổ_chức_niên', 'lễ_hội thời_trang đơn trình_diễn mẫu phục sàn catwalk chợ thời_trang thu_hút du_lịch sức_mua ngành công_nghiệp nghiệp thời_trang singaprore', 'thiết_kế trình_diễn lễ_hội thời_trang singapore', 'vũ_điệu mặt_trời chủ_đề chương_trình biểu_diễn thời_trang diễn đêm hát tphcm zen plaza công_ty ykk việt nam phối_hợp tổ chứcchương trình giới_thiệu mẫu thiết_kế thời_trang mùa hè thiết_kế ntk', 'đêm diễn quy_tụ mẫu', 'ntk kiều việt liên sưu_tập bao quần_soóc ngắn soóc lửng váy ngắn váy xòe rộng', 'sử_dụng gam màu nóng_rực_rỡ cam vàng hồng trắng_họa tiết thêu hoa hải_đường vải chiffon satin nhung sọc mỏng', 'sưu_tập hòa ca màu nắng hè', 'ntk huyền sưu_tập kỳ_diệu ước_mơ thực_hiện chất_liệu nhẹ gam màu hồng tím đỏ_rực hoa nắng mặt_trời bình_minh đem trẻ cảm_giác lạc_quan yêu_đời', 'ntk lệ hằng sử_dụng họa tiết trang_trí hình hoa_lá đan_xen hình mảng mẽ chất_liệu dày cotton jean', 'ntk lệ hằng khắc_họa hình_ảnh dịu_dàng đằm_thắm mẽ độc_lập phụ_nữ', 'ntk quốc thành giai_điệu thiên_thần', 'chủ_đạo giai_điệu kiểu đầm ngắn', 'sử_dụng tông màu trắng chủ_đạo xuyết chút đỏ cam chất_liệu mềm_mỏng voan dập ly ren', 'kiểu_dáng lãng_mạn pha chút cổ_điển gái trẻ yêu_vẻ nhẹ_nhàng lịch', 'ntk nhật huy mặt_trời trái_đất chất_liệu cotton lưới chiffon in hoa hai gam màu nóng lạnh nét hiện_đại cá', 'áo_khoác nhẹ mỏng nhấn hình_ảnh gái tinh_nghịch quyết_đoán yêu', 'mẫu minh thư tuyết trinh yến nhi mai bảo trâm', 'him võ việt him chất_liệu thun cotton jean thiết_kế thời_trang võ việt gửi nam mùa hè trang_phục ứng_dụng màu_sắc hòa thiên_nhiên', 'sưu_tập him kiểu_dáng lạ mẽ cá hy_vọng món quà nghĩa thiết_kế thời_trang võ việt đem trẻ mùa hè', 'mẫu dzoãn tuấn', 'photo trung_nghĩa', 'thiết_kế võ việt', 'showroom huỳnh văn bánh q', 'phú nhuận tphcm', 'hàng ntk công tiêu thiết_kế mắt trang_phục gũi đời mua áo váy thiết_kế ntk thực_hiện tầm ngắm đại đa dân đắt chẳng', 'đồng thể sở_hữu trang_phục ưng độc_đáo ntk thực hiệnsau trọng thiết_kế trang_phục độc nghệ_sĩ hàng ntk trẻ trọng nguyên quyết_định đổi hướng', 'trang_phục đông', 'lý_giải thay_đổi nguyên công thiết_kế thời_trang ntk trẻ sắc ấn_tượng', 'ổn_định công đổi ngược mặt_hàng_phục_vụ', 'phù_hợp xu_hướng thời_trang giới hiện trang_phục ấn_tượng ứng_dụng sử_dụng', 'dĩ_nhiên đổi line hàng kéo toán kỹ giá vải tiền_mặt nhân_công', 'hương giang phó_tổng_giám_đốc zen plaza lạc_quan đầu_tư thời_trang đại đa ntk', 'doanh_thu triệu đồngtháng', 'khu_vực kinh_doanh ntk chiếm doanh tòa zen plaza hứa_hẹn tiếp_tục', 'cường chương_trình giới_thiệu mẫu_mã ntk tiêu nguyên_nhân thời_trang xích sống', 'zen plaza tổ_chức biểu_diễn thời_trang định_kỳ thánglần giới_thiệu sưu_tập ứng_dụng viện thời_trang tổ_chức tuần_lễ thời_trang xuân hè thu đông', 'diễn htv vtv đài_truyền_hình địa_phương ghi_hình phát_sóng đông_đảo yêu thời_trang hội tiếp_cận mẫu_mã ntk công_ty thời_trang', 'ntk minh hạnh hầu ntk tham_gia tuần_lễ thời_trang thể_hiện đời sản_phẩm gũi sống', 'thời_gian thử_thách dần nhu_cầu_tiêu tung sản_phẩm thiết_thực đón công', 'động_lực thúc_đẩy trình', 'chuẩn đời nhãn_hiệu f', 'jeans công_ty may phương đông đầu_tư tám ntk thực_hiện mẫu thời_trang jean trình_làng tuần_lễ thời_trang việt nam fashion week spring amp summer hà_nội', 'nguyễn đức hùng giám_đốc hành công_ty canada hợp_tác công_ty đầu_tư xây_dựng máy sản_xuất sản_phẩm jean', 'mặt_hàng xuất', 'tận_dụng lợi cộng đội_ngũ ntk trẻ năng_lực sản_xuất sản_phẩm_chất phục_vụ tiêu nội_địa', 'dự_kiến tư_sản_phẩm tung thị_trường giá dao_động đồng', 'nữ_trang mẫu độc_đáo vijagems mỹ_phẩm tôn_vẻ đẹp nữ_trang chấm_phá thể quý_phái quyến_rũ phụ nữgiai nhân bao đời tiếc công_sức tiền đầu_tư khoản', 'món trang_sức phù_hợp vóc_dáng đẳng cầu kỳ diêm_dúa đơn_điệu trang_sức thời đòi tinh_tế hài_hòa lịch_lãm', 'hiện nữ doanh_nhân thành mệnh phụ phu_nhân nghệ_sĩ mẫu mê_mẩn món nữ_trang cẩn đá_quý kim_cương hồng_ngọc ngọc lục bảo ruby hoàng ngọc', 'nhẫn sợi dây_chuyền lấp_lánh bàn ngà ngọc cổ quý_phái_đẹp niềm hào chủ_nhân nỗi khát thèm bao trang_sức cẩn đá_quý phục_vụ nhu_cầu đẹp thông_điệp may_mắn hạnh_phúc an_lành sở_hữu', 'nhiên trở_thành chủ_nhân_vật be_bé xinh_xinh chi usd trở', 'hiện thị_trường độc_quyền nhãn_hiệu vijagems tphcm địa_tầng zen plaza', 'quyến_rũ áo_tắm mảnh mùa hè', 'thời_trang áo_tắm trở_thành lưu_tâm quý quý', 'sưu_tập áo_tắm mảnh kiểu_dáng đơn_giản độc_đáo kém gợi_cảm_thiết_kế giới mùa hè naytrong áo_tắm chắn thoải_mái phơi nắng chìm_đắm', 'áo_tắm dáng đầm ngắn hình chữ a cổ áo dạng độ nông sâu tùy_sở mặc lớp áo_lót chất_liệu thun đặc_biệt dáng_vẻ eo thon bụng', 'áo_tắm kiểu nơ cột ngang eo sợi dây đai hình chữ v ngược nhấn gái đôi chân thon_thả', 'đặc_biệt thùy mị nữ áo_tắm hoa_văn xinh_xắn vui_mắt_cá phá mẫu áo_tắm mặc quần soọc váy xẻ lựa hợp', 'trẻ_trung tinh_nghịch đặc_trưng áo_tắm dạng', 'ngôn_ngữ thời_trang hội thời_trang huế', 'ngắm quanh ta khuôn_mặt vóc_dáng mặc_nhiên ta truyền_tải cảm_tín_hiệu trang_phục mặc phán_đoán đótuy nhiên phán_đoán xác chắn trang_phục ấn_tượng ban_đầu_mặt ngôn_ngữ đầu_tiên ngỏ chào', 'ngôn_ngữ thời_trang ngôn_ngữ giao_tiếp_tiếng ngôn_ngữ ngôn_ngữ thời_trang học', 'mẫu thời_trang truyền_thống đơn_giản áo trang_phục truyền_thống phụ_nữ việt nam kimono trang_phục truyền_thống phụ_nữ nhật', 'mẫu thời_trang hiện_đại công_nghiệp biểu_trưng', 'ngôn_ngữ thời_trang phương tây đầu kỷ nam quần_âu càvạt áo vai rộng chất_liệu vải thô dày', 'nữ chân váy cổ áo xẻ sâu đường eo nhấn phong chất_liệu vải mềm_mỏng', 'gợi_cảm trang_phục bó sát chất_liệu vải bóng mỏng đi kèm đôi giày gót', 'trí_thức trang_phục mầu tối quần_âu chắn bít_tất mầu xanh xám đen', 'phụ trang đi kèm kính cặp_táp', 'ngây_thơ hiền_dịu trang_phục đường viền trang_trí hoa chủ_đạo mầu_sắc nhạt nã đi kèm đôi giày bẹt', 'nổi_loạn trang_phục kiểu tóc phá khích xăm trổ lỗ bấm cộng đôi giày to khổ đôi thể giày', 'giàu trọng ðồ trang_sức vàng đá_quý đồ lượt bóng_bẩy vặn hoàn_hảo thương_hiệu đắt tiền', 'mầu_sắc ấn_tượng kèm lông thú vương_vấn mùi hoa đắt tiền', 'ta mua mặc quần_áo thể nhiên thể cân_nhắc lựa gửi ấn_tượng thân', 'cá đặc thân ta thể hé lộ thể che_đậy tác vóc_dáng định_hướng giới khả_năng kinh_tế nghề_nghiệp tôn_giáo quan thẩm_mỹ thể truyền_tải giao_tiếp ta mặc', 'ðối phục_trang sân_khấu màn_ảnh vận_dụng linh_hoạt biểu_tượng nghĩa phục_trang khoác diễn_viên khán_giả thể diễn_viên vai nhân_vật cá tầng_lớp giai_đoạn lịch_sử vv', 'ham trở_đẹp trở_hợp_thời mốt giới trẻ vô', 'thời_trang khắp trình_chiếu tivi hằng quảng_cáo khắp đường_phố tạp_chí thời_trang sạp báo quầy sách', 'phút trình_diễn thời_trang thành_công giới_thiệu mẫu thiết_kế mẫu hàng_đầu giới tất lý_thuyết tan biến giới chạy phong xu_hướng thời_trang', 'tụt_hậu rơi lỗi mốt', 'thời_trang dừng quần_áo sản_phẩm công_nghiệp ôtô_thiết điện_tử sản_phẩm trang_trí nội_thất', 'thiết_kế mầu_sắc kiểu_dáng độc_đáo trở_thành sản_phẩm thời_trang', 'trách_nhiệm nghề_nghiệp mẫu thiết_kế thời_trang_trải nghiệm mẫu_mã nghĩa_trang_phục trào_lưu thời_trang xuất_hiện', 'công thiết_kế trang_phục ứng_dụng định_hướng giới_thiệu tiêu sản_phẩm thiết_kế thời_trang hội tiêu_thể thể_hiện cá nâng thẩm_mỹ hướng', 'gái ban thể mặc đồ đi học đi tham_dự tiệc hội thể mặc váy lộng_lẫy kiêu_sa kém màn_bạc_hóa thân thành nàng công_chúa', 'mẫu thử_thách mong kết_hợp truyền_thống hiện_đại đa_dạng_hóa tân văn_hóa dân_tộc kết_hợp sản_phẩm thời_trang hiện_đại áo len khoác sari áo_khoác tweed mặc quần_jean', 'lễ_phục truyền_thống kimono sườn xám áo tân chi_tiết sản_phẩm phù_hợp xã_hội hiện_đại', 'mẫu mượn mẫu thời_trang quần_áo phá vỡ biên_giới quốc_tế_hóa trang_phục truyền_thống trang_phục đặc_trưng miền thay_đổi quy_tắc kích_cỡ sử_dụng mầu_sắc mâu_thuẫn phá vỡ quy_tắc thiết_kế đường_nét thể sản_phẩm ràng giới kết_hợp_chất vải biệt', 'nghiên_cứu thời_trang báo nhân học cố_gắng nghiên_cứu truyền_tải đóng_góp ngôn_ngữ yêu_cầu tất_yếu nét thú_vị sống cộng_đồng', 'ngại nắng hè nón phụ trang_thiết phái_đẹp chống nắng mùa hè gõ_cửa đồng_thời_vẻ duyên_dáng yêu nữ_giới', 'nón rộng vành màu_sắc hứa_hẹn ưa_chuộng mùa hè', 'duyên_dáng nổi_bật đội mũ hoa_văn dây buộc nhẹ_nhàng nón vải thô màu hồng nhạt tô_họa tiết xinh_xắn', 'xuất_hiện nón rộng vành thiết_kế mặt màu thể giúp thay_đổi phù_hợp màu_sắc kiểu_dáng trang_phục', 'nón lưỡi_trai điệu kẻ carô phù_hợp gái cá năng_động', 'nón lưỡi_trai thiết_kế kiểu_dáng', 'thân mũ tròn hơi dẹp mảnh chắn nắng giúp mũ lưỡi_trai trở_thành vật_dụng tiện_lợi yêu', 'kiểu tương_lai trang_phục phụ trang điệu gợi thời_trang nữ_hoàng cleopatra', 'thiết_kế piria kataria lễ_hội thời_trang màu_sắc diễn new delhi ấn_độ', 'tuần_lễ thời_trang ấn độ gọi wills lifestyle thu_hút thiết_kế ấn độ thời_trang hồng kông nhật tây_ban nha', 'thiết_kế độc_đáo cực_kỳ_lạ_mắt trình_diễn tuần_lễ thời_trang giới thời_trang kinh_ngạc thú', 'ấn_tượng sưu_tập thiết_kế valaya quantum', 'dựa suy_đoán thời_trang giới valya quantum đời thiết_kế ấn_tượng trình_diễn mẫu trang gương_mặt phong lạnh_lùng hoang_dã', 'thiết_kế phá gam màu đỏ đồng vàng pha_trộn áo_choàng vest cổ bẻ to đi kèm đai to váy ngắn', 'đem cảm_giác lạ', 'trang_phục truyền_thống phụ_nữ ấn độ điệu anjana bhargav đầm hội gauri amp nainika thiết_kế pria kataria puri tung sưu_tập dựa cảm_hứng nữ_hoàng cleopatra gọi cleofunk', 'đầm hội dát kim_tuyến lấp_lánh đi kèm mũ_đội sát đầu cổ hoa_văn tinh_tế tôn_vẻ đẹp bí_ẩn phụ_nữ', 'phụ trang chất điệu mũ khăn choàng đặc_biệt hoa_văn cực_kỳ tinh_xảo sưu_tập gợi lộng_lẫy trang_phục_vẻ kiêu_kỳ nữ_hoàng cleopatra', 'thiết_kế trẻ_trung ứng_dụng abhishek grepta lạ_mắt thiết_kế ashima leena mẫu niki mahajan đề truyền_thống dân_tộc mắt thiết_kế dựa cảm_hứng văn_hóa_rajasthan', 'thể khí sa_mạc ắp thiết_kế ứng_dụng thiết_kế', 'chất_liệu cotton áo cổ vest ngắn đi váy lửng vớ len boots nỉ', 'hình_khối mộc_mạc phối_màu kết_hợp hài hòa khối trang_sức truyền_thống phụ_nữ ấn độ góp độc_đáo sưu_tập', 'mùa hè tươi_trẻ nlđo đi biển dạo phố chuyến picnic dịp hè trang_phục emilio pucci trẻ_trung_tiện lợinhững ao thun kiểu_dáng thương kết_hợp quần ngố hoạc short màu_sắc trẻ_trung năng_động', 'chất_liệu thun cotton sử_dụng độ mát_mẻ nóng mùa hè', 'hình_khối đuợc kết_hợp gam màu trẻ ấn_tượng', 'váy sát_nách_ngắn gối thiết_kế emilio pucci giới trẻ mùa hè', 'tuần_lễ thời_trang xuân hè việt_nam hà_nội viện mẫu thời_trang fadin tạp_chí mốt việt nam công_ty may phương đông phối_hợp tổ_chức tuần_lễ thời_trang xuân hè vn sưu_tập mẫu thiết_kế giới_thiệu', 'định thiết_kế minh hạnh xu_hướng xuân hè trang_phục màu_sắc phong_phú thiên màu dáng xử_lý kỹ_thuật phù_hợp', 'đặc_biệt đêm công_ty may phương đông giới_thiệu mẫu mẫu vũ ngân khai việt hà hồng dung hoài huyền mi minh hạnh thiết_kế chất_liệu jeans công_nghệ rgr canada', 'thiết_kế tham_gia tuần_lễ thời_trang việt nam xuânhè mẫu thời_trang xuânhè ntk trình_diễn chương_trình tuần_lễ thời_trang việt nam xuânhè hồ bơi sạn deawoo hà nộinăm tuần_lễ thời_trang việt nam chương_trình công_ty may phương đông bắt vinatex fadin tạp_chí mốt việt_nam thực_hiện chương_trình', 'đêm tuần_lễ đêm thiết_kế may phương đông mẫu jeans thực_hiện dây_chuyền sản_xuất công_nghệ trị_giá triệu usd khu_vực đông_nam', 'mẫu trình_diễn tuần_lễ thời_trang việt nam xuânhè', 'vũ nguyễn hà chinh_phục làng thời_trang châu âu mẫu vũ nguyễn hà', 'sinh_viên đại_học reading trở_thành châu đầu_tiên giành giải_thưởng thi mẫu chuyên_nghiệp châu âu', 'vũ nguyễn hà việt nam định_cư xứ_sở sương_mù', 'châu tham_gia thi', 'tác_động ban giám_khảo châu thi_thể bất_lợi thể ưu tùy chiều_hướng', 'ca_sĩ coco lee phát_biểu báo_chí châu_dựng nghiệp châu âu mỹ khăn vô', 'hướng lạc_quan phát_huy lạ biệt cạnh thí_sinh', 'vấn_đề thi ban giám_khảo nghề', 'dựa chuyên_nghiệp công', 'mẫu ký hợp_đồng nổi_tiếng uy_tín thi', 'mạo_hiểm trao giải_cảm', 'đồng_nghiệp xét học lớp yêu_quý gọi claudia schiffer lớp lẽ gò_má đôi môi cong hao_hao mẫu', 'đồng_nghiệp sánh mẫu nổi_tiếng vẻ đẹp', 'sức_hút mẫu sàn_diễn đi uyển gợi_cảm_vẻ mặt cá ánh mắt hút_hồn cá trang_phục lôi', 'ưu sân_khấu ống_kính', 'ưu thân ngoại_hình tri_thức lượt hội bộc_lộ', 'xét mẫu việt_nam mẫu duyên_dáng đặc_biệt tà_áo', 'ngọc thúy bảo hòa hồ ngọc hà xuân_lan mẫu ảnh', 'tiếp_xúc ngọc thúy ấn_tượng', 'phụ_nữ', 'mẫu búp_bê đại_gia báo_chí nhắc vấn_đề', 'sống ta quyền thực đánh_giá đông dựa cá_nhân_công', 'hát năng_khiếu bây lựa dứt_khoát nghề mẫu ca_sĩ thành_công lĩnh_vực đòi tận_tâm nỗ_lực đặc_biệt ta thực_hiện đất', 'nhiên hai nghề hội định nắm_bắt', 'hội nắm_bắt hội', 'sở_hữu hội nghĩa niềm say_mê', 'ảnh chụp nhiếp_ảnh gia dáng_vẻ thoải_mái đồ sexy', 'đời gu mặc đời mặc trẻ_trung hiện_đại', 'sàn_diễn đứng ống_kính công mẫu thể_hiện cá_vẻ đẹp quyến_rũ trang_phục_vẻ mặt_thể', 'cảm_giác thoải_mái kiện công', 'phụ_nữ phương đông nghề trình_diễn thời_trang gái phương đông phụ_nữ phương đông trẻ làn da đẹp vòng eo thon dịu_dàng đằm_thắm', 'mặt phụ_nữ phương tây đường_cong thể quyến_rũ phong nhiên giao_tiếp', 'nhiên tuyệt_đối_thể học', 'thi bao_nhiêu đề_nghị ký hợp_đồng công_ty mẫu hợp_tác trở_trường thi_nghiệp', 'kỹ lựa đối_tác hợp', 'hà sinh cựu học_sinh trường amsterdam hà nội hiện_sinh_viên đh reading', 'sở_hữu giọng ca đặc_biệt hà học_bổng khóa đào ca_sĩ british academy of music london', 'm đo', 'tham_gia thi hoa_hậu phụ_nữ việt nam ảnh lọt top đẹp đoạt giải_thể_hình đẹp', 'thi kiếm mẫu chuyên_nghiệp hà tham_gia chương_trình hát biểu_diễn thời_trang giới học_sinh sinh_viên', 'ban giám_khảo thi xét tiềm_năng trở_thành mẫu thành_công', 'lĩnh mềm_mỏng xã_giao tuyệt_vời phong biểu_diễn hút quý_phái nhiên tuân bất', 'giới bóng_tối christian dior nlđo hãng thời_trang christian dior tung sưu_tập dựa cảm_hứng bóng_tối', 'thiết_kế độc_đáo phá chất_liệu voan lưới da hoàn_toàn gam màu đennhững mẫu trang_phục christian dior ví rocker', 'xuất_hiện trang_phục cảm_hứng bí_ẩn', 'váy ngắn bó sát đi áo lưới mỏng thêu hoa_văn kết_hợp boots thời_thượng', 'áo rằn đen phá trang_trí thắt_lưng to cá mẽ', 'duyên_dáng quần lửng nlđoquần lửng trang_phục giới trẻ ưa_chuộng mùa hè', 'quần lửng ống bó ngắn gối ống lật trang_trí hoa_văn gấu thay kiểu quần lửng ống bát ưa quanhiều hãng thời_trang danh_tiếng tung thiết_kế quần lửng', 'chất_liệu bò dampg mắt thiết_kế bó sát đi áo thun vest sandal duyên_dáng', 'dior quần lửng chất_liệu bò ống gập đi áo kiểu nhẹ_nhàng trẻ_trung', 'valentino versace missoni moschino tung quần lửng_thiết đa_dạng tiện_lợi mùa hè', 'thiết_kế dampg thiết_kế dampg thiết_kế dior thiết_kế dkny thiết_kế missoni thiết_kế valentino thiết_kế versase thiết_kế moschino', 'ấn_tượng mango trang_phục phá hơi rộng nét lạ hấp', 'sản_phẩm mango mạc thị bưởi tphcmmango công_ty thiết_kế thời_trang nổi_tiếng giới tây_ban nha giới_thiệu trẻ tphcm sưu_tập thời_trang xuân hè', 'sưu_tập luồng gió barcelona phong hiện_đại trọng lịch trẻ_trung', 'chất_liệu vải nhẹ kết_hợp màu đen trắng vải cotton thô vải hoa', 'trang_phục phá hơi rộng nét lạ hấp', 'sản_phẩm mango mạc thị bưởi tphcm', 'thời_trang kaki áo sơ_mi điệu cổ áo_cánh_họa tiết kim_tuyến_vẻ trẻ_trung hiện đạibộ sưu_tập tinh_khôi thiết_kế trọng nguyên nổi_bật nét ngây_thơ gam màu hoàn_toàn trắng_mắt khán_giả tuần_lễ thời_trang xuân hè diễn hà_nội', 'áo sơ_mi điệu cổ áo_cánh_họa tiết kim_tuyến_vẻ trẻ_trung hiện_đại', 'chất_liệu sưu_tập hoàn_toàn kaki', 'nét táo_bạo trọng nguyên xu_hướng thời_trang thiên màu trắng']\n",
      "222\n"
     ]
    }
   ],
   "source": [
    "data_list = []\n",
    "D = []\n",
    "# Đường dẫn đến thư mục chứa file đầu vào\n",
    "dir_path = './5'\n",
    "for file_name in os.listdir(dir_path):\n",
    "    if file_name.endswith('.txt'):\n",
    "        file_path = os.path.join(dir_path, file_name)\n",
    "        with open(file_path, 'r', encoding='utf-16') as file:\n",
    "            data = file.read()\n",
    "            data_list.append(data)\n",
    "     \n",
    "data_list = \" \".join(data_list)\n",
    "data_list = data_list.replace(\"\\n\",\".\") \n",
    "data_list = data_list.split(\". \") # Tách câu\n",
    "\n",
    "for text in data_list:     \n",
    " \n",
    "        text_pre=text.lower() # Chuyển văn bản thành chữ thường    \n",
    "        text_pre=re.sub(r'[^\\w\\s]','',text_pre) # Xóa dấu câu\n",
    "        text_pre = re.sub(\"\\d+\", \" \", text_pre) # Xóa chữ số\n",
    "        text_pre = re.sub(r\"[!@#$[]()]'\", \"\", text_pre) # Xoá kí tự đặc biệt: !@#$[]()\n",
    "    \n",
    "        text_pre = ''.join(text_pre)\n",
    "\n",
    "        # Xóa các từ không có nghĩa (Stop Words);\n",
    "        f = open(r\"./vietnamese-stopwords.txt\", \"r\", encoding=\"utf-8\")\n",
    "        List_StopWords=f.read().split(\"\\n\")\n",
    "        text_pre=\" \".join(text_pre for text_pre in text_pre.split() if text_pre not in List_StopWords)\n",
    "\n",
    "        text_pre = ViTokenizer.tokenize(text_pre) # Tách từ (Tokenizing)\n",
    "        if text_pre == \"\":\n",
    "            continue\n",
    "        D.append(text_pre)\n",
    "print(D)\n",
    "print(len(D))"
   ]
  },
  {
   "cell_type": "markdown",
   "metadata": {},
   "source": [
    "# xây dựngvector TF-IDF bằng thư viện nltk"
   ]
  },
  {
   "cell_type": "code",
   "execution_count": 22,
   "metadata": {},
   "outputs": [
    {
     "name": "stdout",
     "output_type": "stream",
     "text": [
      "   fashion  đại_gia  trâm  quy_tắc  thông_điệp  nhấn  âm_hưởng  ứng_dụng  \\\n",
      "0      0.0      0.0   0.0      0.0         0.0   0.0       0.0       0.0   \n",
      "\n",
      "   singaprore  đơn  ...  phương  thi_thể  thành  sari  isham  giai_điệu  đón  \\\n",
      "0         0.0  0.0  ...     0.0      0.0    0.0   0.0    0.0        0.0  0.0   \n",
      "\n",
      "   ngỏ  hiệnsau   vẻ  \n",
      "0  0.0      0.0  0.0  \n",
      "\n",
      "[1 rows x 1084 columns]\n"
     ]
    }
   ],
   "source": [
    "#Create Dictionary\n",
    "def create_dict(doc_list):\n",
    "    W={}\n",
    "    for d in doc_list:\n",
    "        bow = d.split(\" \")  # Tokenization\n",
    "        W = set(W).union(set(bow))\n",
    "\n",
    "    return W\n",
    "\n",
    "#Count the word in bads\n",
    "def WCount(d, W):\n",
    "    wordDict=dict.fromkeys(W, 0)\n",
    "    for word in d.split():\n",
    "        wordDict[word]+=1\n",
    "    return wordDict\n",
    "\n",
    "#Calculate TF\n",
    "def compute_TF(W, d):\n",
    "    tf_dict = {}\n",
    "    \n",
    "    bow_count = len(d.split())\n",
    "    for word, count in W.items():\n",
    "        tf_dict[word] = round(count/float(bow_count),3)\n",
    "    \n",
    "    return tf_dict    \n",
    "\n",
    "#Calculate IDF   \n",
    "def compute_IDF(doc_list):\n",
    "    idf_dict = {}\n",
    "    N = len(doc_list)\n",
    "    \n",
    "    #Count number of documents that contain this word\n",
    "    idf_dict = dict.fromkeys(doc_list[0].keys(), 0)\n",
    "    # print(idf_dict)\n",
    "\n",
    "    for doc in doc_list:\n",
    "        for word, count in doc.items():\n",
    "            if count > 0:\n",
    "                idf_dict[word] += 1\n",
    "    # print(sorted(idf_dict.items()))\n",
    "\n",
    "    for word, count in idf_dict.items():\n",
    "        idf_dict[word] = round(math.log10(N/float(count)),3)\n",
    "\n",
    "    return idf_dict\n",
    "\n",
    "# Compute TF-IDF\n",
    "def compute_TFIDF(tf_bow, idfs):\n",
    "    tfidf = {}\n",
    "    for word, val in tf_bow.items():\n",
    "        tfidf[word] = round(val*idfs[word],3)\n",
    "    return tfidf\n",
    "\n",
    "#===================================================\n",
    "#===================================================\n",
    "Wi = []\n",
    "tf_d = []\n",
    "tfidf = []\n",
    "\n",
    "# Step 1\n",
    "W= create_dict(D)\n",
    "# print(W)\n",
    "\n",
    "# Step 2.1\n",
    "for i in range(len(D)):\n",
    "    Wi.append(WCount(D[i],W))\n",
    "    # print(sorted(Wi[i].items()))\n",
    "\n",
    "\n",
    "\n",
    "\n",
    "\n",
    "for i in range(len(D)):\n",
    "    # Step 2.2 + 2.3: Compute TF\n",
    "    tf_d.append(compute_TF(Wi[i], D[i]))\n",
    "    # print(sorted(tf_d[i].items()))\n",
    "\n",
    "\n",
    "# Step 3: Compute IDF\n",
    "idfs = compute_IDF(Wi)\n",
    "# print(sorted(idfs.items()))\n",
    "\n",
    "for i in range(len(D)):\n",
    "    # Step 4: Compute TF-IDF\n",
    "    tfidf = compute_TFIDF(tf_d[i], idfs)\n",
    "    # print(tfidf_d1)\n",
    "    # print(tfidf_d2)\n",
    "\n",
    "# Vector TF-IDF\n",
    "df = pd.DataFrame([tfidf])\n",
    "print(df)"
   ]
  },
  {
   "cell_type": "code",
   "execution_count": 28,
   "metadata": {},
   "outputs": [
    {
     "name": "stdout",
     "output_type": "stream",
     "text": [
      "Index(['táo_bạo', 'thiên', 'nguyên', 'trắng', 'xu_hướng', 'nét', 'trọng',\n",
      "       'màu', 'thời_trang', 'fashion', 'đại_gia', 'trâm', 'quy_tắc',\n",
      "       'thông_điệp', 'nhấn', 'âm_hưởng', 'ứng_dụng', 'singaprore', 'đơn',\n",
      "       'học', 'chiếm_lĩnh', 'buộc', 'vận_dụng', 'bóng', 'bóng_tối', 'cam',\n",
      "       'bẻ', 'tiệc', 'làng', 'an_lành', 'tiết', 'say_mê', 'đất', 'kỹ',\n",
      "       'quý_phái', 'valya', 'los', 'spring', 'trucco', 'nlđotừ', 'phục_trang',\n",
      "       'yêu_đời', 'dần', 'trở_hợp_thời', 'đặc_biệt', 'tám', 'thi_nghiệp',\n",
      "       'him', 'armani', 'sọc'],\n",
      "      dtype='object')\n"
     ]
    }
   ],
   "source": [
    "column_values = df.iloc[0]\n",
    "# Lấy 50 cột có giá trị cao nhất\n",
    "top_50_columns = column_values.nlargest(50).index\n",
    "print(top_50_columns)"
   ]
  },
  {
   "cell_type": "markdown",
   "metadata": {},
   "source": [
    "# CHu de Thoi trang"
   ]
  }
 ],
 "metadata": {
  "kernelspec": {
   "display_name": "venv",
   "language": "python",
   "name": "python3"
  },
  "language_info": {
   "codemirror_mode": {
    "name": "ipython",
    "version": 3
   },
   "file_extension": ".py",
   "mimetype": "text/x-python",
   "name": "python",
   "nbconvert_exporter": "python",
   "pygments_lexer": "ipython3",
   "version": "3.12.4"
  }
 },
 "nbformat": 4,
 "nbformat_minor": 2
}
