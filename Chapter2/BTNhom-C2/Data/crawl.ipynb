{
 "cells": [
  {
   "cell_type": "code",
   "execution_count": 4,
   "metadata": {},
   "outputs": [
    {
     "name": "stdout",
     "output_type": "stream",
     "text": [
      "1:   https://techcrunch.com/2024/09/22/a-guide-to-ios-18s-hidden-features-and-smaller-updates/\n",
      "2:   https://techcrunch.com/2024/09/21/amazon-says-no-to-remote-work/\n",
      "3:   https://techcrunch.com/2024/09/20/hottest-apple-products-google-microsoft/\n",
      "4:   https://techcrunch.com/2024/09/20/apple-breaks-down-iphone-16-repair-process/\n",
      "5:   https://techcrunch.com/2024/09/20/the-iphone-16-launches-today-without-its-most-hyped-feature-apple-intelligence/\n",
      "6:   https://techcrunch.com/2024/09/20/apple-intelligence-its-biggest-features-and-when-you-can-expect-them/\n",
      "7:   https://techcrunch.com/2024/09/19/apple-intelligence-is-now-live-in-public-beta-heres-what-it-offers-and-how-to-enable-it/\n",
      "8:   https://techcrunch.com/2024/09/19/for-5-photon-library-brings-back-the-feel-of-the-old-ios-photos-app/\n",
      "9:   https://techcrunch.com/2024/09/19/apples-new-macos-sequoia-update-is-breaking-some-cybersecurity-tools/\n",
      "10:   https://techcrunch.com/2024/09/18/three-new-ways-to-personalize-your-iphones-home-screen-in-ios-18/\n",
      "11:   https://techcrunch.com/2024/09/18/iphone-16-pro-max-review/\n",
      "12:   https://techcrunch.com/2024/09/18/heres-how-apple-is-making-iphone-16-more-repairable/\n",
      "13:   https://techcrunch.com/2024/09/17/jpmorgan-could-take-over-goldmans-apple-card-business/\n",
      "14:   https://techcrunch.com/2024/09/17/macpaw-launches-its-alternative-ios-app-store-for-eu-in-open-beta/\n",
      "15:   https://techcrunch.com/2024/09/16/ios-18-review/\n",
      "16:   https://techcrunch.com/2024/09/16/ios-18-is-now-available-to-download/\n",
      "17:   https://techcrunch.com/video/techcrunch-minute-fda-approval-sets-the-stage-for-apples-airpod-hearing-aids/\n",
      "18:   https://techcrunch.com/2024/09/16/apple-watch-sleep-apnea-detection-gets-fda-approval/\n",
      "19:   https://techcrunch.com/2024/09/16/apple-airpods-4-with-active-noise-cancellation-review/\n",
      "20:   https://techcrunch.com/2024/09/14/openai-previews-its-new-strawberry-model/\n",
      "21:   https://techcrunch.com/2024/09/13/alternative-app-stores-allowed-on-the-ipad-in-the-eu-starting-september-16/\n",
      "22:   https://techcrunch.com/2024/09/12/apple-airpods-pro-granted-fda-approval-to-serve-as-hearing-aids/\n",
      "23:   https://techcrunch.com/podcast/ai-illusions-and-navigating-the-money-trap-with-alok-sama/\n",
      "24:   https://techcrunch.com/2024/09/11/apples-newly-available-win-back-offers-let-developers-reach-lapsed-subscribers/\n",
      "25:   https://techcrunch.com/2024/09/10/beats-makes-iphone-16-cases-now/\n",
      "26:   https://techcrunch.com/2024/09/10/apple-watch-blood-oxygen-detection-wont-be-available-on-the-series-10-in-the-u-s/\n",
      "27:   https://techcrunch.com/2024/09/10/heres-how-the-new-airpods-pro-hearing-test-works/\n",
      "28:   https://techcrunch.com/2024/09/10/iphone-16-apple-intelligence-airpods-4-and-more-live-updates-on-everything-revealed-at-apple-event-2024/\n",
      "29:   https://techcrunch.com/2024/09/10/apple-punts-on-ai/\n",
      "30:   https://techcrunch.com/video/techcrunch-minute-everything-announced-at-apples-glowtime-event/\n"
     ]
    }
   ],
   "source": [
    "import requests\n",
    "import re\n",
    "from bs4  import BeautifulSoup\n",
    "\n",
    "url = r'https://techcrunch.com/tag/apple/'\n",
    "\n",
    "html = requests.get(url)\n",
    "links_blog = []\n",
    "\n",
    "# Parse HTML bằng BeautifulSoup\n",
    "soup = BeautifulSoup(html.content, 'html.parser')\n",
    "i =1\n",
    "\n",
    "# Tìm thẻ div với class cụ thể\n",
    "h2s = soup.find_all('h2')\n",
    "\n",
    "# Duyệt qua các div và tìm thẻ a bên trong\n",
    "for h2 in h2s:\n",
    "    links = h2.find_all('a', href=True)\n",
    "    for link in links:\n",
    "        if link['href'] in links_blog:\n",
    "            continue\n",
    "        links_blog.append(link['href'])\n",
    "        print(f'{i}:   {link['href']}')\n",
    "    i += 1"
   ]
  },
  {
   "cell_type": "code",
   "execution_count": 29,
   "metadata": {},
   "outputs": [],
   "source": [
    "\n",
    "def crawl(url):\n",
    "    html_page = requests.get(url)\n",
    "\n",
    "    # Parse HTML bằng BeautifulSoup\n",
    "    soup = BeautifulSoup(html_page.content, 'html.parser')\n",
    "\n",
    "    # Tìm thẻ div với class cụ thể\n",
    "    title = soup.find('h1')\n",
    "    if title == None:\n",
    "        title = soup.find('h2', class_='wp-block-post-title')\n",
    "\n",
    "    # Tìm thẻ div với class cụ thể\n",
    "    content_div = soup.find('div', class_='entry-content wp-block-post-content is-layout-flow wp-block-post-content-is-layout-flow')\n",
    "\n",
    "    # Tạo tên file từ đường link (loại bỏ các ký tự không hợp lệ)\n",
    "    file_name = str(i) + '.txt'\n",
    "    with open(file_name, 'w', encoding='utf-8') as file:\n",
    "        file.write(f'{title.get_text()}\\n {content_div.get_text()}')\n",
    "    \n",
    "\n",
    "i=1\n",
    "for link in links_blog:\n",
    "    crawl(link)\n",
    "    i+=1\n"
   ]
  }
 ],
 "metadata": {
  "kernelspec": {
   "display_name": "venv",
   "language": "python",
   "name": "python3"
  },
  "language_info": {
   "codemirror_mode": {
    "name": "ipython",
    "version": 3
   },
   "file_extension": ".py",
   "mimetype": "text/x-python",
   "name": "python",
   "nbconvert_exporter": "python",
   "pygments_lexer": "ipython3",
   "version": "3.12.4"
  }
 },
 "nbformat": 4,
 "nbformat_minor": 2
}
